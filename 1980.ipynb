{
 "cells": [
  {
   "cell_type": "markdown",
   "metadata": {},
   "source": [
    "Find Unique Binary String\n",
    "Given an array of strings nums containing n unique binary strings each of length n, return a binary string of length n that does not appear in nums. If there are multiple answers, you may return any of them.\n"
   ]
  },
  {
   "cell_type": "markdown",
   "metadata": {},
   "source": [
    "naive approach just create combinations until you find one which is not in the list\n",
    "\n",
    "needs refinement, as currently the generation does not work for low n"
   ]
  },
  {
   "cell_type": "code",
   "execution_count": 26,
   "metadata": {},
   "outputs": [
    {
     "name": "stdout",
     "output_type": "stream",
     "text": [
      "01\n",
      "01\n"
     ]
    }
   ],
   "source": [
    "def findDifferentBinaryString(nums: list[str]) -> str:\n",
    "    nums = set(nums)\n",
    "\n",
    "    if len(nums) == 1:\n",
    "        return \"1\" if \"0\" in nums else \"0\"\n",
    "\n",
    "    for i in range(len(nums)):\n",
    "        result = \"1\" if i % 2 == 1 else \"0\"\n",
    "        # does not go over all options if its a low length\n",
    "        for j in range(len(nums) - 1):\n",
    "            result += \"1\" if j % 2 == 1 else \"0\"\n",
    "        print(result)\n",
    "        if result not in nums:\n",
    "            return result\n",
    "\n",
    "\n",
    "assert findDifferentBinaryString([\"0\"]) == \"1\"\n",
    "assert findDifferentBinaryString([\"00\", \"10\"]) == \"01\""
   ]
  },
  {
   "cell_type": "markdown",
   "metadata": {},
   "source": [
    "you could build a binary tree with the used combinations and therefore find a combination which has not been used by finding the most shallow branch and expanding it\n",
    "\n",
    "Very space inefficient because we only get n amount of strings\n",
    "\n",
    "but works"
   ]
  },
  {
   "cell_type": "code",
   "execution_count": 78,
   "metadata": {},
   "outputs": [
    {
     "data": {
      "text/plain": [
       "'0110000'"
      ]
     },
     "execution_count": 78,
     "metadata": {},
     "output_type": "execute_result"
    }
   ],
   "source": [
    "def findDifferentBinaryString(nums: list[str]) -> str:\n",
    "    tree = [None] * (2 ** (len(nums) + 1))\n",
    "    # tree generation might be off for a binary tree, not sure\n",
    "    for combination in nums:\n",
    "        parent_idx = 1\n",
    "        for letter in combination:\n",
    "            idx = 2 * parent_idx\n",
    "\n",
    "            if letter == \"1\":\n",
    "                idx += 1\n",
    "\n",
    "            tree[idx] = letter\n",
    "            parent_idx = idx\n",
    "\n",
    "    for i, node in enumerate(tree):\n",
    "        if node is not None or i < 2:\n",
    "            continue\n",
    "\n",
    "        missing_bit = i % 2\n",
    "\n",
    "        # find parent index from current index\n",
    "        depth = 1\n",
    "        parent_idx = i // 2\n",
    "        previous_letters = \"\"\n",
    "        while parent_idx > 1:\n",
    "            previous_letters = f\"{tree[parent_idx]}{previous_letters}\" \n",
    "            parent_idx = parent_idx // 2\n",
    "            depth += 1\n",
    "\n",
    "        # how far from max depth\n",
    "        remaining_letters = \"0\" * (len(nums) - depth)\n",
    "\n",
    "        return previous_letters + str(missing_bit) + remaining_letters\n",
    "\n",
    "\n",
    "\"\"\"\n",
    "assert findDifferentBinaryString([\"0\"]) == \"1\"\n",
    "assert findDifferentBinaryString([\"00\",\"10\"]) == \"01\"\n",
    "findDifferentBinaryString([\"111\", \"011\", \"001\"])\n",
    "\"\"\"\n",
    "findDifferentBinaryString([\"0001111\",\"0100111\",\"0010101\",\"1100111\",\"0101001\",\"1010000\",\"1110110\"])"
   ]
  },
  {
   "cell_type": "code",
   "execution_count": 72,
   "metadata": {},
   "outputs": [
    {
     "data": {
      "text/plain": [
       "32"
      ]
     },
     "execution_count": 72,
     "metadata": {},
     "output_type": "execute_result"
    }
   ],
   "source": [
    "2 ** (4 + 1)"
   ]
  },
  {
   "cell_type": "markdown",
   "metadata": {},
   "source": [
    "other approaches:\n",
    "convert binary to number and check based on that\n",
    "\"Cantor's diagonal argument\" every single position differs to another same position of a different combination\n",
    "solution += !n[0][0]\n",
    "solution += !n[1][1]"
   ]
  }
 ],
 "metadata": {
  "kernelspec": {
   "display_name": "Python 3",
   "language": "python",
   "name": "python3"
  },
  "language_info": {
   "codemirror_mode": {
    "name": "ipython",
    "version": 3
   },
   "file_extension": ".py",
   "mimetype": "text/x-python",
   "name": "python",
   "nbconvert_exporter": "python",
   "pygments_lexer": "ipython3",
   "version": "3.10.12"
  }
 },
 "nbformat": 4,
 "nbformat_minor": 2
}
