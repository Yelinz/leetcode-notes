{
 "cells": [
  {
   "cell_type": "markdown",
   "metadata": {},
   "source": [
    "Binary Tree Preorder Traversal\n",
    "\n",
    "left, right, root"
   ]
  },
  {
   "cell_type": "markdown",
   "metadata": {},
   "source": [
    "iterative"
   ]
  },
  {
   "cell_type": "code",
   "execution_count": null,
   "metadata": {},
   "outputs": [],
   "source": [
    "class Solution:\n",
    "    def preorderTraversal(self, root: Optional[TreeNode]) -> List[int]:\n",
    "        stack, values = [], []\n",
    "\n",
    "        while stack or root:\n",
    "            if root:\n",
    "                stack.append(root)\n",
    "                values.append(root.val)\n",
    "                root = root.left\n",
    "            else:\n",
    "                current = stack.pop()\n",
    "                root = current.right\n",
    "\n",
    "        return values"
   ]
  }
 ],
 "metadata": {
  "language_info": {
   "name": "python"
  }
 },
 "nbformat": 4,
 "nbformat_minor": 2
}
