{
 "cells": [
  {
   "cell_type": "code",
   "execution_count": 35,
   "metadata": {},
   "outputs": [
    {
     "data": {
      "text/plain": [
       "4"
      ]
     },
     "execution_count": 35,
     "metadata": {},
     "output_type": "execute_result"
    }
   ],
   "source": [
    "def binary_search(nums, target):\n",
    "    bottom = 0\n",
    "    top = len(nums) - 1\n",
    "    \n",
    "    while bottom < top:\n",
    "        \"\"\"\n",
    "        # upper middle value\n",
    "        middle = bottom + (top - bottom +1)//2\n",
    "        if target < nums[middle]:\n",
    "            # to always eliminate one, shrink upper boundry\n",
    "            top = middle - 1\n",
    "        else:\n",
    "            bottom = middle\n",
    "        \"\"\"\n",
    "        # lower middle value\n",
    "        middle = bottom + (top - bottom)//2\n",
    "        if target > nums[middle]:\n",
    "            # to always eliminate one, increase lower boundry\n",
    "            bottom = middle + 1\n",
    "        else:\n",
    "            top = middle\n",
    "    \n",
    "    return bottom if nums[bottom] == target else -1\n",
    "\n",
    "binary_search([-1,0,3,5,9,12], 9)"
   ]
  },
  {
   "cell_type": "code",
   "execution_count": 57,
   "metadata": {},
   "outputs": [
    {
     "data": {
      "text/plain": [
       "'13211311123113112211'"
      ]
     },
     "execution_count": 57,
     "metadata": {},
     "output_type": "execute_result"
    }
   ],
   "source": [
    "from itertools import groupby\n",
    "\n",
    "\n",
    "def countAndSay(n):\n",
    "    if n == 1:\n",
    "        return \"1\"\n",
    "    return \"\".join(\n",
    "        str(num)\n",
    "        for tup in [\n",
    "            (len(list(group)), key) for key, group in groupby(countAndSay(n - 1))\n",
    "        ]\n",
    "        for num in tup\n",
    "    )\n",
    "\n",
    "\n",
    "countAndSay(10)\n"
   ]
  },
  {
   "cell_type": "code",
   "execution_count": 8,
   "metadata": {},
   "outputs": [
    {
     "data": {
      "text/plain": [
       "{'a', 'b'}"
      ]
     },
     "execution_count": 8,
     "metadata": {},
     "output_type": "execute_result"
    }
   ],
   "source": [
    "set(\"a\") | set(\"b\")"
   ]
  }
 ],
 "metadata": {
  "kernelspec": {
   "display_name": "Python 3.8.10 64-bit",
   "language": "python",
   "name": "python3"
  },
  "language_info": {
   "codemirror_mode": {
    "name": "ipython",
    "version": 3
   },
   "file_extension": ".py",
   "mimetype": "text/x-python",
   "name": "python",
   "nbconvert_exporter": "python",
   "pygments_lexer": "ipython3",
   "version": "3.8.10"
  },
  "orig_nbformat": 4,
  "vscode": {
   "interpreter": {
    "hash": "e7370f93d1d0cde622a1f8e1c04877d8463912d04d973331ad4851f04de6915a"
   }
  }
 },
 "nbformat": 4,
 "nbformat_minor": 2
}
