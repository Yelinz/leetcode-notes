{
 "cells": [
  {
   "cell_type": "markdown",
   "metadata": {},
   "source": [
    "Validate Binary Search Tree\n",
    "\n",
    "Given the root of a binary tree, determine if it is a valid binary search tree (BST).\n",
    "\n",
    "A valid BST is defined as follows:\n",
    "\n",
    "    The left\n",
    "    subtree\n",
    "    of a node contains only nodes with keys less than the node's key.\n",
    "    The right subtree of a node contains only nodes with keys greater than the node's key.\n",
    "    Both the left and right subtrees must also be binary search trees.\n"
   ]
  },
  {
   "cell_type": "markdown",
   "metadata": {},
   "source": [
    "when traversing left compare everything with smaller\n",
    "flipped when right\n",
    "\n",
    "seems overcomplicated\n",
    "\n",
    "return values is what comes up the DFS\n",
    "paramters is what is being passed down\n",
    "\n",
    "not working"
   ]
  },
  {
   "cell_type": "code",
   "execution_count": 18,
   "metadata": {},
   "outputs": [],
   "source": [
    "class TreeNode:\n",
    "    def __init__(self, val=0, left=None, right=None):\n",
    "        self.val = val\n",
    "        self.left = left\n",
    "        self.right = right\n",
    "\n",
    "\n",
    "class Solution:\n",
    "    L = \"L\"\n",
    "    R = \"R\"\n",
    "\n",
    "    def isValidBST(self, root: TreeNode) -> bool:\n",
    "        valid = True\n",
    "        valid_left, values_left = self.validate(root.left, self.L)\n",
    "        valid_right, values_right = self.validate(root.right, self.R)\n",
    "\n",
    "        if values_left:\n",
    "            valid &= root.val > max(values_left)\n",
    "        if values_right:\n",
    "            valid &= root.val < min(values_right)\n",
    "\n",
    "        return valid_left and valid_right and valid\n",
    "\n",
    "    def validate(self, node, operation):\n",
    "        valid = True\n",
    "        if node is None:\n",
    "            return True, []\n",
    "\n",
    "        valid_left, values_left = self.validate(node.left, self.L)\n",
    "        valid_right, values_right = self.validate(node.right, self.R)\n",
    "\n",
    "        previous_values = values_left + values_right\n",
    "        valid &= valid_left and valid_right\n",
    "\n",
    "        if operation == self.L and values_left:\n",
    "            valid &= node.val > max(values_left)\n",
    "        elif operation == self.R and values_right:\n",
    "            valid &= node.val < min(values_right)\n",
    "\n",
    "        previous_values.append(node.val)\n",
    "\n",
    "        return valid, previous_values\n",
    "\n",
    "\n",
    "assert (\n",
    "    Solution().isValidBST(\n",
    "        TreeNode(\n",
    "            3,\n",
    "            TreeNode(1, TreeNode(0), TreeNode(2)),\n",
    "            TreeNode(5, TreeNode(4), TreeNode(6)),\n",
    "        )\n",
    "    )\n",
    "    == True\n",
    ")\n",
    "assert Solution().isValidBST(TreeNode(2, TreeNode(2), TreeNode(2))) == False\n",
    "assert Solution().isValidBST(TreeNode(5, TreeNode(1), TreeNode(4))) == False\n",
    "assert Solution().isValidBST(TreeNode(2, TreeNode(1), TreeNode(3))) == True"
   ]
  },
  {
   "cell_type": "markdown",
   "metadata": {},
   "source": [
    "keep track of what is min and max value and pass those down\n"
   ]
  },
  {
   "cell_type": "code",
   "execution_count": 19,
   "metadata": {},
   "outputs": [],
   "source": [
    "class Solution:\n",
    "    def isValidBST(self, root: TreeNode) -> bool:\n",
    "        return self.validate(root)\n",
    "\n",
    "    def validate(self, node, min_val=float(\"-inf\"), max_val=float(\"inf\")):\n",
    "        if node is None:\n",
    "            return True\n",
    "\n",
    "        if (\n",
    "            node.val <= min_val\n",
    "            or node.val >= max_val\n",
    "            or not self.validate(node.left, min_val, node.val)\n",
    "            or not self.validate(node.right, node.val, max_val)\n",
    "        ):\n",
    "            return False\n",
    "\n",
    "        return True\n",
    "\n",
    "assert (\n",
    "    Solution().isValidBST(\n",
    "        TreeNode(\n",
    "            3,\n",
    "            TreeNode(1, TreeNode(0), TreeNode(2)),\n",
    "            TreeNode(5, TreeNode(4), TreeNode(6)),\n",
    "        )\n",
    "    )\n",
    "    == True\n",
    ")\n",
    "assert Solution().isValidBST(TreeNode(2, TreeNode(2), TreeNode(2))) == False\n",
    "assert Solution().isValidBST(TreeNode(5, TreeNode(1), TreeNode(4))) == False\n",
    "assert Solution().isValidBST(TreeNode(2, TreeNode(1), TreeNode(3))) == True"
   ]
  }
 ],
 "metadata": {
  "kernelspec": {
   "display_name": "Python 3",
   "language": "python",
   "name": "python3"
  },
  "language_info": {
   "codemirror_mode": {
    "name": "ipython",
    "version": 3
   },
   "file_extension": ".py",
   "mimetype": "text/x-python",
   "name": "python",
   "nbconvert_exporter": "python",
   "pygments_lexer": "ipython3",
   "version": "3.10.12"
  }
 },
 "nbformat": 4,
 "nbformat_minor": 2
}
