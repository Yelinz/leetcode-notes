{
 "cells": [
  {
   "cell_type": "code",
   "execution_count": 17,
   "metadata": {},
   "outputs": [
    {
     "name": "stdout",
     "output_type": "stream",
     "text": [
      "5 {'ttt', 'trt', 'tct', 'txt', 'tlt'}\n"
     ]
    }
   ],
   "source": [
    "# too slow\n",
    "def countPalindromicSubsequence(s: str) -> int:\n",
    "    palindromes = set()\n",
    "    # find every 2nd occurance of a letter, with a distance of at least 2\n",
    "    # every letter between can be a palindrome\n",
    "    letters = list(s)\n",
    "    for i, letter in enumerate(letters):\n",
    "        try:\n",
    "            idx_next = letters.index(letter, i+2)\n",
    "            for center in letters[i+1:idx_next]:\n",
    "                palindromes.add(letter + center + letter)\n",
    "\n",
    "            if letter in letters[idx_next+1:]:\n",
    "                palindromes.add(letter + letter + letter)\n",
    "        except:\n",
    "            pass\n",
    "\n",
    "    \"ttt missing\"\n",
    "    print(len(palindromes), palindromes)\n",
    "    return len(palindromes)\n",
    "\n",
    "assert countPalindromicSubsequence(\"tlrcxtt\") == 5"
   ]
  },
  {
   "cell_type": "code",
   "execution_count": 22,
   "metadata": {},
   "outputs": [
    {
     "name": "stdout",
     "output_type": "stream",
     "text": [
      "5 {'ttt', 'trt', 'tct', 'txt', 'tlt'}\n"
     ]
    }
   ],
   "source": [
    "def countPalindromicSubsequence(s: str) -> int:\n",
    "    palindromes = set()\n",
    "    seen_letters = {}\n",
    "    letter_count = {}\n",
    "\n",
    "    letters = list(s)\n",
    "    for i, letter in enumerate(letters):\n",
    "        if letter in seen_letters:\n",
    "            for center in letters[seen_letters[letter]+1:i]:\n",
    "                palindromes.add(letter + center + letter)\n",
    "\n",
    "        seen_letters[letter] = i \n",
    "        letter_count[letter] = letter_count.get(letter, 0) + 1\n",
    "\n",
    "    for letter, count in letter_count.items():\n",
    "        if count >= 3:\n",
    "            palindromes.add(letter + letter + letter)\n",
    "\n",
    "    \"ttt missing\"\n",
    "    print(len(palindromes), palindromes)\n",
    "    return len(palindromes)\n",
    "\n",
    "assert countPalindromicSubsequence(\"tlrcxtt\") == 5"
   ]
  },
  {
   "cell_type": "markdown",
   "metadata": {},
   "source": [
    "wtf is this"
   ]
  },
  {
   "cell_type": "code",
   "execution_count": null,
   "metadata": {},
   "outputs": [],
   "source": [
    "# Submitted by Samy Vilar <samy_vilar> on 11/02/2023\n",
    "\n",
    "# For the sake of simplicity at all times we will keep\n",
    "# track of distinct pairs witnessed thus far,\n",
    "# implying for any never before seen appended symbol\n",
    "# it would suffice to consider all those pairs \n",
    "# that start w/ said terminal symbol; afterwhich\n",
    "# we take care to update the aforementioned set \n",
    "# by iterating all distinctly previously witnessed\n",
    "# symbols, also taking care to add said symbol to\n",
    "# the set of distinct symbols;\n",
    "\n",
    "# version 1.1 micro-optimization(s)\n",
    "#             - Given all pairs would share the same initial symbol\n",
    "#               it would suffice to store all distinct preceeding\n",
    "#               symbols for each distinct symbol;\n",
    "#               i.e. the intercepting/centered symbol;\n",
    "#             - Given our constraint, should our input be randomly\n",
    "#               chosen from a uniform distribution then we can safely\n",
    "#               halt altogether onced we've generated all possibly\n",
    "#               palindromes, i.e. should there be k distinct symbols\n",
    "#               over s, then at most we could ever witnessed would be\n",
    "#               k * k palindromes (of length 3);\n",
    "\n",
    "# version 1.1\n",
    "\n",
    "class Solution:\n",
    "    def countPalindromicSubsequence(\n",
    "        self, s: str, exhaust=deque(maxlen=0).extendleft\n",
    "    ) -> int:\n",
    "        bound = len(frozenset(s))\n",
    "        bound *= bound\n",
    "        update = (triplets := set()).update\n",
    "        centers = {s[1]: set(), s[0]: {s[1]}}\n",
    "        for ch in islice(s, 2, None):\n",
    "            if ch in centers:\n",
    "                update(map(ch.__add__, centers[ch]))\n",
    "                if len(triplets) == bound:\n",
    "                    return bound                \n",
    "                exhaust(map(set.add, centers.values(), repeat(ch)))\n",
    "                continue\n",
    "            exhaust(map(set.add, centers.values(), repeat(ch)))\n",
    "            centers[ch] = set()\n",
    "        return len(triplets)\n",
    "        \n",
    "    "
   ]
  }
 ],
 "metadata": {
  "kernelspec": {
   "display_name": ".venv",
   "language": "python",
   "name": "python3"
  },
  "language_info": {
   "codemirror_mode": {
    "name": "ipython",
    "version": 3
   },
   "file_extension": ".py",
   "mimetype": "text/x-python",
   "name": "python",
   "nbconvert_exporter": "python",
   "pygments_lexer": "ipython3",
   "version": "3.10.13"
  }
 },
 "nbformat": 4,
 "nbformat_minor": 2
}
