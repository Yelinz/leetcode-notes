{
 "cells": [
  {
   "cell_type": "markdown",
   "metadata": {},
   "source": [
    "two pointers\n",
    "move them closer until they find something\n",
    "generic solution\n",
    "\n",
    "had to cheat for both"
   ]
  },
  {
   "cell_type": "code",
   "execution_count": 7,
   "metadata": {},
   "outputs": [
    {
     "data": {
      "text/plain": [
       "'Hello'"
      ]
     },
     "execution_count": 7,
     "metadata": {},
     "output_type": "execute_result"
    }
   ],
   "source": [
    "def rv(s):\n",
    "    vowels = list(\"aeiouAEIOU\")\n",
    "    s = list(s)\n",
    "    left = 0\n",
    "    right = len(s) - 1\n",
    "\n",
    "    while left < right:\n",
    "        while left < right and s[left] not in vowels:\n",
    "            left += 1\n",
    "        while left < right and s[right] not in vowels:\n",
    "            right -= 1\n",
    "        s[left], s[right] = s[right], s[left]\n",
    "        left = left + 1\n",
    "        right = right - 1\n",
    "\n",
    "    return \"\".join(s)\n",
    "\n",
    "rv(\"Hello\")"
   ]
  },
  {
   "cell_type": "markdown",
   "metadata": {},
   "source": [
    "solution with generator"
   ]
  },
  {
   "cell_type": "code",
   "execution_count": null,
   "metadata": {},
   "outputs": [],
   "source": [
    "def rv(s):\n",
    "    vowels = list(\"aeiouAEIOU\")\n",
    "    generator = (char for char in reversed(s) if char in vowels)\n",
    "    return \"\".join(next(generator) if char in vowels else char for char in s)"
   ]
  }
 ],
 "metadata": {
  "kernelspec": {
   "display_name": "Python 3.8.10 64-bit",
   "language": "python",
   "name": "python3"
  },
  "language_info": {
   "codemirror_mode": {
    "name": "ipython",
    "version": 3
   },
   "file_extension": ".py",
   "mimetype": "text/x-python",
   "name": "python",
   "nbconvert_exporter": "python",
   "pygments_lexer": "ipython3",
   "version": "3.8.10"
  },
  "orig_nbformat": 4,
  "vscode": {
   "interpreter": {
    "hash": "e7370f93d1d0cde622a1f8e1c04877d8463912d04d973331ad4851f04de6915a"
   }
  }
 },
 "nbformat": 4,
 "nbformat_minor": 2
}
