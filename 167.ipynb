{
 "cells": [
  {
   "cell_type": "markdown",
   "metadata": {},
   "source": [
    "Should work but its too slow"
   ]
  },
  {
   "cell_type": "code",
   "execution_count": 5,
   "metadata": {},
   "outputs": [],
   "source": [
    "def twoSum(numbers, target):\n",
    "    for i, n in enumerate(numbers):\n",
    "        idx = i + 1\n",
    "        for j, v in enumerate(numbers[idx:]):\n",
    "            if n + v == target:\n",
    "                return [idx, idx+j+1]"
   ]
  },
  {
   "cell_type": "markdown",
   "metadata": {},
   "source": [
    "binary search approach\n",
    "1. copied\n",
    "2. my improvement? but its slower? (2x numbers.index)"
   ]
  },
  {
   "cell_type": "code",
   "execution_count": null,
   "metadata": {},
   "outputs": [],
   "source": [
    "def twoSum(numbers, target):\n",
    "    investigatedSoFar = []\n",
    "    for i in range(len(numbers)):\n",
    "        if not numbers[i] in investigatedSoFar:\n",
    "            investigatedSoFar.append(numbers[i])\n",
    "            l, r = i + 1, len(numbers) - 1\n",
    "            tmp = target - numbers[i]\n",
    "            while l <= r:\n",
    "                mid = l + (r-l) // 2\n",
    "                if numbers[mid] == tmp:\n",
    "                    return([i + 1, mid + 1])\n",
    "                elif numbers[mid] < tmp:\n",
    "                    l = mid + 1\n",
    "                else:\n",
    "                    r = mid - 1"
   ]
  },
  {
   "cell_type": "code",
   "execution_count": 72,
   "metadata": {},
   "outputs": [
    {
     "data": {
      "text/plain": [
       "[1, 2]"
      ]
     },
     "execution_count": 72,
     "metadata": {},
     "output_type": "execute_result"
    }
   ],
   "source": [
    "def twoSum(numbers, target):\n",
    "    for n in set(numbers):\n",
    "        top = len(numbers) - 1\n",
    "        i = numbers.index(n) + 1\n",
    "        bottom = i\n",
    "        search = target - n\n",
    "\n",
    "        while bottom <= top:\n",
    "            middle = bottom + (top - bottom) // 2\n",
    "            if numbers[middle] == search:\n",
    "                return [i, numbers.index(search, i) + 1]\n",
    "            elif numbers[middle] < search:\n",
    "                bottom = middle + 1\n",
    "            else:\n",
    "                top = middle - 1\n",
    "\n",
    "\n",
    "twoSum([0,0,3,4], 0)\n"
   ]
  },
  {
   "cell_type": "markdown",
   "metadata": {},
   "source": [
    "two pointers"
   ]
  },
  {
   "cell_type": "code",
   "execution_count": null,
   "metadata": {},
   "outputs": [],
   "source": []
  },
  {
   "cell_type": "markdown",
   "metadata": {},
   "source": [
    "tests"
   ]
  },
  {
   "cell_type": "code",
   "execution_count": 68,
   "metadata": {},
   "outputs": [],
   "source": [
    "assert twoSum([2,7,11,15], 9) == [1, 2]\n",
    "assert twoSum([5,25,75], 100) == [2, 3]\n",
    "assert twoSum([2,3,4], 6) == [1, 3]\n",
    "assert twoSum([-1,0], -1) == [1, 2]"
   ]
  }
 ],
 "metadata": {
  "kernelspec": {
   "display_name": "Python 3.8.10 64-bit",
   "language": "python",
   "name": "python3"
  },
  "language_info": {
   "codemirror_mode": {
    "name": "ipython",
    "version": 3
   },
   "file_extension": ".py",
   "mimetype": "text/x-python",
   "name": "python",
   "nbconvert_exporter": "python",
   "pygments_lexer": "ipython3",
   "version": "3.8.10"
  },
  "orig_nbformat": 4,
  "vscode": {
   "interpreter": {
    "hash": "e7370f93d1d0cde622a1f8e1c04877d8463912d04d973331ad4851f04de6915a"
   }
  }
 },
 "nbformat": 4,
 "nbformat_minor": 2
}
