{
 "cells": [
  {
   "cell_type": "markdown",
   "metadata": {},
   "source": [
    "Merge BSTs to Create Single BST\n",
    "\n",
    "You are given n BST (binary search tree) root nodes for n separate BSTs stored in an array trees (0-indexed). Each BST in trees has at most 3 nodes, and no two roots have the same value. In one operation, you can:\n",
    "\n",
    "    Select two distinct indices i and j such that the value stored at one of the leaves of trees[i] is equal to the root value of trees[j].\n",
    "    Replace the leaf node in trees[i] with trees[j].\n",
    "    Remove trees[j] from trees.\n",
    "\n",
    "Return the root of the resulting BST if it is possible to form a valid BST after performing n - 1 operations, or null if it is impossible to create a valid BST.\n"
   ]
  },
  {
   "cell_type": "code",
   "execution_count": 2,
   "metadata": {},
   "outputs": [],
   "source": [
    "from collections import defaultdict\n",
    "\n",
    "\n",
    "# Definition for a binary tree node.\n",
    "class TreeNode:\n",
    "    def __init__(self, val=0, left=None, right=None):\n",
    "        self.val = val\n",
    "        self.left = left\n",
    "        self.right = right"
   ]
  },
  {
   "cell_type": "markdown",
   "metadata": {},
   "source": [
    "get all leafs and check against all roots\n",
    "Seems slow\n",
    "to pre check makes pop a lot more difficult"
   ]
  },
  {
   "cell_type": "code",
   "execution_count": 11,
   "metadata": {},
   "outputs": [
    {
     "data": {
      "text/plain": [
       "<__main__.TreeNode at 0x7fe02c058250>"
      ]
     },
     "execution_count": 11,
     "metadata": {},
     "output_type": "execute_result"
    }
   ],
   "source": [
    "class Solution:\n",
    "    def canMerge(self, trees: list[TreeNode]) -> TreeNode:\n",
    "        leaf_root_pairs = defaultdict(list)\n",
    "        leafs = [self.get_leafs(t) for t in trees]\n",
    "        # first check if its possible to merge\n",
    "        for j, root_tree in enumerate(trees):\n",
    "            for i, leaf_tree in enumerate(leafs):\n",
    "                if i == j:\n",
    "                    continue\n",
    "                if root_tree.val in leaf_tree:\n",
    "                    leaf_root_pairs[j].append(i)\n",
    "\n",
    "        if not leaf_root_pairs:\n",
    "            # invalid\n",
    "            return None\n",
    "\n",
    "        # operation defintion\n",
    "        # two indicies where one leaf of i matches root of j\n",
    "        for j, leaf_idxs in leaf_root_pairs.items():\n",
    "            for i in leaf_idxs:\n",
    "                # replace leaf i with tree j\n",
    "                self.join_trees(trees[i], trees[j])\n",
    "            # remove tree j from trees\n",
    "            # trees.pop(j)\n",
    "\n",
    "        # check resulting tree if its valid\n",
    "        return trees[0]\n",
    "\n",
    "    def get_leafs(self, tree):\n",
    "        if tree is None:\n",
    "            return []\n",
    "        if tree.left is None and tree.right is None:\n",
    "            return [tree.val]\n",
    "\n",
    "        return self.get_leafs(tree.left) + self.get_leafs(tree.right)\n",
    "\n",
    "    def join_trees(self, parent, child):\n",
    "        node_stack = [parent]\n",
    "        for node in node_stack:\n",
    "            if node is None:\n",
    "                continue\n",
    "\n",
    "            for dir in [\"left\", \"right\"]:\n",
    "                if hasattr(node, dir) and getattr(node, dir).val == child.val:\n",
    "                    setattr(node, dir, child)\n",
    "                    return\n",
    "\n",
    "            node_stack.append(node.left, node.right)\n",
    "            node_stack.pop(0)\n",
    "\n",
    "\n",
    "Solution().canMerge(\n",
    "    [\n",
    "        TreeNode(2, TreeNode(1)),\n",
    "        TreeNode(3, TreeNode(2), TreeNode(5)),\n",
    "        TreeNode(5, TreeNode(4)),\n",
    "    ]\n",
    ")"
   ]
  },
  {
   "cell_type": "markdown",
   "metadata": {},
   "source": [
    "\n",
    "check if root is in leafs\n",
    "check if root tree max is smaller or greater than leaf, based on if it will be right or left\n"
   ]
  },
  {
   "cell_type": "code",
   "execution_count": null,
   "metadata": {},
   "outputs": [],
   "source": [
    "class Solution:\n",
    "    def canMerge(self, trees: list[TreeNode]) -> TreeNode:\n",
    "        for i, leaf_tree in enumerate(trees):\n",
    "            leaves = self.get_leaves(leaf_tree)\n",
    "            for j, root_tree in enumerate(trees):\n",
    "                if i == j or root_tree.val not in leaves:\n",
    "                    continue\n",
    "\n",
    "                self.join_trees(leaf_tree, root_tree)\n",
    "                \n",
    "\n",
    "    def get_leaves(self, tree):\n",
    "        if tree is None:\n",
    "            return []\n",
    "        if tree.left is None and tree.right is None:\n",
    "            return [tree.val]\n",
    "\n",
    "        return self.get_leafs(tree.left) + self.get_leafs(tree.right)\n",
    "\n",
    "    def get_max(self, tree):\n",
    "        if not tree:\n",
    "            return 0\n",
    "\n",
    "        return max(tree.val, self.get_max(tree.left), self.get_max(tree.right))\n",
    "\n",
    "    def join_trees(self, parent, child):\n",
    "        node_stack = [parent]\n",
    "        for node in node_stack:\n",
    "            if node is None:\n",
    "                continue\n",
    "\n",
    "            for dir in [\"left\", \"right\"]:\n",
    "                if hasattr(node, dir) and getattr(node, dir).val == child.val and self.get_max(child) > getattr(node, dir).val:\n",
    "                    setattr(node, dir, child)\n",
    "                    return\n",
    "\n",
    "            node_stack.append(node.left, node.right)\n",
    "            node_stack.pop(0)"
   ]
  },
  {
   "cell_type": "markdown",
   "metadata": {},
   "source": [
    "join all bst and then check if its valid"
   ]
  }
 ],
 "metadata": {
  "kernelspec": {
   "display_name": "Python 3",
   "language": "python",
   "name": "python3"
  },
  "language_info": {
   "codemirror_mode": {
    "name": "ipython",
    "version": 3
   },
   "file_extension": ".py",
   "mimetype": "text/x-python",
   "name": "python",
   "nbconvert_exporter": "python",
   "pygments_lexer": "ipython3",
   "version": "3.10.12"
  }
 },
 "nbformat": 4,
 "nbformat_minor": 2
}
