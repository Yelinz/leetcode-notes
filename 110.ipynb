{
 "cells": [
  {
   "cell_type": "markdown",
   "metadata": {},
   "source": [
    "Balanced Binary Tree\n",
    "\n",
    "determine if its height balanced for every node"
   ]
  },
  {
   "cell_type": "markdown",
   "metadata": {},
   "source": [
    "probably do a dfs and keep track with a variable\n",
    "\n",
    "[1,2,2,3,null,null,3,4,null,null,4] false\n",
    "\n",
    "        1\n",
    "      2    2\n",
    "    3 x   x 3\n",
    "  4 x       x 4"
   ]
  },
  {
   "cell_type": "code",
   "execution_count": null,
   "metadata": {},
   "outputs": [],
   "source": [
    "class Solution:\n",
    "    def isBalanced(self, root: Optional[TreeNode]) -> bool:\n",
    "        self.balance = True\n",
    "        if not root:\n",
    "            return self.balance\n",
    "\n",
    "        self.calculateBalance(root)\n",
    "\n",
    "        return self.balance\n",
    "\n",
    "    def calculateBalance(self, node):\n",
    "        if not node:\n",
    "            return 0\n",
    "        \n",
    "        # dfs\n",
    "        left_depth = self.calculateBalance(node.left)\n",
    "        right_depth = self.calculateBalance(node.right)\n",
    "        \n",
    "        difference = left_depth - right_depth\n",
    "        if self.balance:\n",
    "            self.balance = difference <= 1 and difference >= -1\n",
    "\n",
    "        return max(left_depth, right_depth) + 1"
   ]
  },
  {
   "cell_type": "markdown",
   "metadata": {},
   "source": [
    "This only checks if the root is balanced\n",
    "\n",
    "just get max depth of left and right and check if the difference is 1 or 0"
   ]
  },
  {
   "cell_type": "code",
   "execution_count": null,
   "metadata": {},
   "outputs": [],
   "source": [
    "class Solution:\n",
    "    def isBalanced(self, root: Optional[TreeNode]) -> bool:\n",
    "        if not root:\n",
    "            return True\n",
    "\n",
    "        height_left = self.maxDepth(root.left)\n",
    "        height_right = self.maxDepth(root.right)\n",
    "\n",
    "        difference = abs(height_left - height_right)\n",
    "        return difference <= 1 and difference >= 0\n",
    "\n",
    "    def maxDepth(self, root: Optional[TreeNode]) -> int:\n",
    "        if not root:\n",
    "            return 0\n",
    "\n",
    "        left_depth = self.maxDepth(root.left)\n",
    "        right_depth = self.maxDepth(root.right)\n",
    "\n",
    "        return max(left_depth, right_depth) + 1"
   ]
  }
 ],
 "metadata": {
  "language_info": {
   "name": "python"
  }
 },
 "nbformat": 4,
 "nbformat_minor": 2
}
