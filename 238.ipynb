{
 "cells": [
  {
   "cell_type": "markdown",
   "metadata": {},
   "source": [
    "multiply every single number to variables in one iteration"
   ]
  },
  {
   "cell_type": "code",
   "execution_count": null,
   "metadata": {},
   "outputs": [],
   "source": [
    "def productExceptSelf(nums):\n",
    "    products = [1] * len(nums)\n",
    "    prefix = 1\n",
    "    suffix = 1\n",
    "\n",
    "    for i in range(len(nums)):\n",
    "        products[i] *= prefix\n",
    "        prefix *= nums[i]\n",
    "        products[-1-i] *= suffix\n",
    "        suffix *= nums[-1-i]\n",
    "\n",
    "    return products"
   ]
  },
  {
   "cell_type": "markdown",
   "metadata": {},
   "source": [
    "Cant do this, too slow\n",
    "as it isnt O(n), because we call math prod so often"
   ]
  },
  {
   "cell_type": "code",
   "execution_count": null,
   "metadata": {},
   "outputs": [],
   "source": [
    "products = []\n",
    "\n",
    "for i in range(len(nums)):\n",
    "    products.append(math.prod(nums[0:i] + nums[i+1:len(nums)]))\n",
    "\n",
    "return products"
   ]
  },
  {
   "cell_type": "markdown",
   "metadata": {},
   "source": [
    "you could use accumulate aswell\n",
    "\n",
    "Used resources:\n",
    "https://leetcode.com/problems/product-of-array-except-self/solutions/1342916/3-minute-read-mimicking-an-interview/\n",
    "https://leetcode.com/problems/product-of-array-except-self/solutions/1597994/c-python-4-simple-solutions-w-explanation-prefix-suffix-product-o-1-space-approach/"
   ]
  }
 ],
 "metadata": {
  "kernelspec": {
   "display_name": "Python 3.8.10 64-bit",
   "language": "python",
   "name": "python3"
  },
  "language_info": {
   "codemirror_mode": {
    "name": "ipython",
    "version": 3
   },
   "file_extension": ".py",
   "mimetype": "text/x-python",
   "name": "python",
   "nbconvert_exporter": "python",
   "pygments_lexer": "ipython3",
   "version": "3.8.10"
  },
  "orig_nbformat": 4,
  "vscode": {
   "interpreter": {
    "hash": "e7370f93d1d0cde622a1f8e1c04877d8463912d04d973331ad4851f04de6915a"
   }
  }
 },
 "nbformat": 4,
 "nbformat_minor": 2
}
