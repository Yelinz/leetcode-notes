{
 "cells": [
  {
   "cell_type": "markdown",
   "metadata": {},
   "source": [
    "766 own solution"
   ]
  },
  {
   "cell_type": "code",
   "execution_count": null,
   "metadata": {},
   "outputs": [
    {
     "data": {
      "text/plain": [
       "False"
      ]
     },
     "metadata": {},
     "output_type": "display_data"
    }
   ],
   "source": [
    "def isToeplitzMatrix(matrix):\n",
    "    toeplitz = True\n",
    "    for i, row in enumerate(matrix):\n",
    "        for j, number in enumerate(row):\n",
    "            if i-1 < 0 or j-1 < 0:\n",
    "                continue\n",
    "            if matrix[i-1][j-1] != number:\n",
    "                toeplitz = False\n",
    "                break\n",
    "    return toeplitz\n",
    "\n",
    "isToeplitzMatrix([[36,59,71,15,26,82,87],[56,36,59,71,15,26,82],[15,0,36,59,71,15,26]])"
   ]
  },
  {
   "cell_type": "code",
   "execution_count": null,
   "metadata": {},
   "outputs": [],
   "source": [
    "# different approaches\n",
    "# same as above, just as a one liner\n",
    "all(r == 0 or c == 0 or matrix[r-1][c-1] == val\n",
    "                   for r, row in enumerate(matrix)\n",
    "                   for c, val in enumerate(row))\n",
    "# check current row with next row\n",
    "# because the last value of the current row is irrelevant and first value of next row is irrelevant\n",
    "# we can exclude them and only check those in bewtween\n",
    "for i in range(len(matrix)-1):\n",
    "    if matrix[i][0:-1] != matrix[i+1][1:]:\n",
    "        return False\n",
    "return True"
   ]
  },
  {
   "cell_type": "code",
   "execution_count": null,
   "metadata": {},
   "outputs": [],
   "source": [
    "assert isToeplitzMatrix([[1,2,3,4],[5,1,2,3],[9,5,1,2]])\n",
    "assert not isToeplitzMatrix([[1,2],[2,2]])\n",
    "assert not isToeplitzMatrix([[36,59,71,15,26,82,87],[56,36,59,71,15,26,82],[15,0,36,59,71,15,26]])"
   ]
  }
 ],
 "metadata": {
  "kernelspec": {
   "display_name": "Python 3.8.10 64-bit",
   "language": "python",
   "name": "python3"
  },
  "language_info": {
   "name": "python",
   "version": "3.8.10"
  },
  "orig_nbformat": 4,
  "vscode": {
   "interpreter": {
    "hash": "e7370f93d1d0cde622a1f8e1c04877d8463912d04d973331ad4851f04de6915a"
   }
  }
 },
 "nbformat": 4,
 "nbformat_minor": 2
}
