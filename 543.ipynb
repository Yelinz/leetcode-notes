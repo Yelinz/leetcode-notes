{
 "cells": [
  {
   "cell_type": "markdown",
   "metadata": {},
   "source": [
    "Diameter of Binary Tree\n",
    "\n",
    "find the longest edge connection, can pass through root"
   ]
  },
  {
   "cell_type": "markdown",
   "metadata": {},
   "source": [
    "total edges, needs case to distinguish longest connection"
   ]
  },
  {
   "cell_type": "code",
   "execution_count": null,
   "metadata": {},
   "outputs": [],
   "source": [
    "class Solution:\n",
    "    def diameterOfBinaryTree(self, root: Optional[TreeNode]) -> int:\n",
    "        if not root:\n",
    "            return 0\n",
    "\n",
    "        longest_left = self.diameterOfBinaryTree(root.left)\n",
    "        longest_right = self.diameterOfBinaryTree(root.right)\n",
    "\n",
    "        edges = int(bool(root.left)) + int(bool(root.right))\n",
    "\n",
    "        return longest_left + longest_right + edges"
   ]
  },
  {
   "cell_type": "markdown",
   "metadata": {},
   "source": [
    "what if every node calculates the longest connection and then compares it to the child\n",
    "\n",
    "returning the longest\n",
    "\n",
    "calculate max depth for left and right and then combine.\n",
    "repeat for children\n",
    "\n",
    "work, but very slow obviously"
   ]
  },
  {
   "cell_type": "code",
   "execution_count": null,
   "metadata": {},
   "outputs": [],
   "source": [
    "class Solution:\n",
    "    def diameterOfBinaryTree(self, root: Optional[TreeNode]) -> int:\n",
    "        if not root:\n",
    "            return 0\n",
    "\n",
    "        longest_left = self.maxDepth(root.left)\n",
    "        longest_right = self.maxDepth(root.right)\n",
    "        own_longest = longest_left + longest_right\n",
    "\n",
    "        child_longest = max(self.diameterOfBinaryTree(root.left), self.diameterOfBinaryTree(root.right))\n",
    "\n",
    "        return max(child_longest, own_longest)\n",
    "\n",
    "    def maxDepth(self, root: Optional[TreeNode]) -> int:\n",
    "        if not root:\n",
    "            return 0\n",
    "\n",
    "        left_depth = self.maxDepth(root.left)\n",
    "        right_depth = self.maxDepth(root.right)\n",
    "\n",
    "        return max(left_depth, right_depth) + 1"
   ]
  },
  {
   "cell_type": "markdown",
   "metadata": {},
   "source": [
    "a faster solution might be done with a DFS and just keeping track of the max diameter outside"
   ]
  },
  {
   "cell_type": "code",
   "execution_count": null,
   "metadata": {},
   "outputs": [],
   "source": []
  }
 ],
 "metadata": {
  "language_info": {
   "name": "python"
  }
 },
 "nbformat": 4,
 "nbformat_minor": 2
}
