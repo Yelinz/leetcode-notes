{
 "cells": [
  {
   "cell_type": "markdown",
   "metadata": {},
   "source": [
    "Find Mode in Binary Search Tree\n",
    "Given the root of a binary search tree (BST) with duplicates, return all the mode(s) (i.e., the most frequently occurred element) in it.\n",
    "\n",
    "If the tree has more than one mode, return them in any order.\n"
   ]
  },
  {
   "cell_type": "markdown",
   "metadata": {},
   "source": [
    "use a hash map and dfs to count\n"
   ]
  },
  {
   "cell_type": "code",
   "execution_count": null,
   "metadata": {},
   "outputs": [],
   "source": [
    "class Solution:\n",
    "    def findMode(self, root: Optional[TreeNode]) -> List[int]:\n",
    "        max_frequency = 0\n",
    "        modes = []\n",
    "        for value, frequency in self.mostFrequent(root).items():\n",
    "            if frequency > max_frequency:\n",
    "                modes = [value]\n",
    "                max_frequency = frequency\n",
    "            elif frequency == max_frequency:\n",
    "                modes.append(value)\n",
    "\n",
    "        return modes\n",
    "\n",
    "    def mostFrequent(self, node):\n",
    "        frequencies = defaultdict(int)\n",
    "        if node is None:\n",
    "            return frequencies\n",
    "\n",
    "        frequencies[node.val] += 1\n",
    "\n",
    "        left_freq = self.mostFrequent(node.left)\n",
    "        right_freq = self.mostFrequent(node.right)\n",
    "\n",
    "        for value, frequency in list(left_freq.items()) + list(right_freq.items()):\n",
    "            frequencies[value] += frequency\n",
    "\n",
    "        return frequencies\n",
    "\n",
    "    def mostFrequentIterative(self, node):\n",
    "        frequencies = defaultdict(int)\n",
    "        stack = []\n",
    "\n",
    "        while stack or node:\n",
    "            if node:\n",
    "                stack.append(node)\n",
    "                frequencies[node.val] += 1\n",
    "                node = node.left\n",
    "            else:\n",
    "                current = stack.pop()\n",
    "                node = current.right\n",
    "\n",
    "        return frequencies"
   ]
  },
  {
   "cell_type": "markdown",
   "metadata": {},
   "source": [
    "no hash map is needed because it is a BST\n",
    "\n",
    "still use bfs but instead of a hashmap we traverse in order and count occurences\n",
    "inorder BST should be like a sorted list, that means we can check if the number is different to the previous one\n",
    "and reset the frequency counter by that.\n",
    "\n",
    "not sure if we can do a local object in the DFS function, passing a result array in also wouldnt work.\n"
   ]
  },
  {
   "cell_type": "code",
   "execution_count": null,
   "metadata": {},
   "outputs": [],
   "source": [
    "class Solution:\n",
    "    def findMode(self, root: Optional[TreeNode]) -> List[int]:\n",
    "        self.dfs(root)\n",
    "        return self.modes\n",
    "\n",
    "    modes = []\n",
    "    currentNumber = 0\n",
    "    currentFreq = 0\n",
    "    maxFreq = 0\n",
    "\n",
    "    def dfs(self, node):\n",
    "        if not node:\n",
    "            return\n",
    "\n",
    "        self.dfs(node.left)\n",
    "\n",
    "        if node.val == self.currentNumber:\n",
    "            self.currentFreq += 1\n",
    "        else:\n",
    "            self.currentFreq = 1\n",
    "            self.currentNumber = node.val\n",
    "\n",
    "        if self.currentFreq > self.maxFreq:\n",
    "            self.maxFreq = self.currentFreq\n",
    "            self.modes = [node.val]\n",
    "        elif self.currentFreq == self.maxFreq:\n",
    "            self.modes.append(node.val)\n",
    "\n",
    "        self.dfs(node.right)"
   ]
  },
  {
   "cell_type": "code",
   "execution_count": null,
   "metadata": {},
   "outputs": [],
   "source": [
    "class Solution:\n",
    "    def findMode(self, root: Optional[TreeNode]) -> List[int]:\n",
    "        _, _, _, modes = self.dfs(root, 0, 0, 0, [])\n",
    "        return modes\n",
    "\n",
    "    def dfs(self, node, currentNumber, currentFreq, maxFreq, modes):\n",
    "        if not node:\n",
    "            return currentNumber, currentFreq, maxFreq, modes\n",
    "\n",
    "        currentNumber, currentFreq, maxFreq, modes = self.dfs(\n",
    "            node.left, currentNumber, currentFreq, maxFreq, modes\n",
    "        )\n",
    "\n",
    "        if node.val == currentNumber:\n",
    "            currentFreq += 1\n",
    "        else:\n",
    "            currentFreq = 1\n",
    "            currentNumber = node.val\n",
    "\n",
    "        if currentFreq > maxFreq:\n",
    "            maxFreq = currentFreq\n",
    "            modes = [node.val]\n",
    "        elif currentFreq == maxFreq:\n",
    "            modes.append(node.val)\n",
    "\n",
    "        currentNumber, currentFreq, maxFreq, modes = self.dfs(\n",
    "            node.right, currentNumber, currentFreq, maxFreq, modes\n",
    "        )\n",
    "\n",
    "        return currentNumber, currentFreq, maxFreq, modes"
   ]
  }
 ],
 "metadata": {
  "kernelspec": {
   "display_name": "Python 3",
   "language": "python",
   "name": "python3"
  },
  "language_info": {
   "codemirror_mode": {
    "name": "ipython",
    "version": 3
   },
   "file_extension": ".py",
   "mimetype": "text/x-python",
   "name": "python",
   "nbconvert_exporter": "python",
   "pygments_lexer": "ipython3",
   "version": "3.10.12"
  }
 },
 "nbformat": 4,
 "nbformat_minor": 2
}
