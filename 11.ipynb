{
 "cells": [
  {
   "cell_type": "markdown",
   "metadata": {},
   "source": [
    "First approach:\n",
    "too slow\n",
    "check every combination by iterating over the list and closing two pointers\n",
    "long testcase took 7s"
   ]
  },
  {
   "cell_type": "code",
   "execution_count": 8,
   "metadata": {},
   "outputs": [
    {
     "data": {
      "text/plain": [
       "49"
      ]
     },
     "execution_count": 8,
     "metadata": {},
     "output_type": "execute_result"
    }
   ],
   "source": [
    "def maxArea(heights):\n",
    "    best = 0\n",
    "\n",
    "    for i in range(len(heights)):\n",
    "        left, right = i, len(heights) - 1\n",
    "        while left < right:\n",
    "            width = right - left\n",
    "            height = min(heights[left], heights[right])\n",
    "            current = width*height\n",
    "            best = max(current, best)\n",
    "            right -= 1\n",
    "\n",
    "    return best\n",
    "\n",
    "maxArea([1,8,6,2,5,4,8,3,7])"
   ]
  },
  {
   "cell_type": "markdown",
   "metadata": {},
   "source": [
    "next thought\n",
    "only iterate witht the two pointers, move the pointers based on which one is smaller"
   ]
  },
  {
   "cell_type": "code",
   "execution_count": 28,
   "metadata": {},
   "outputs": [
    {
     "data": {
      "text/plain": [
       "2"
      ]
     },
     "execution_count": 28,
     "metadata": {},
     "output_type": "execute_result"
    }
   ],
   "source": [
    "def maxArea(heights):\n",
    "    best = 0\n",
    "    left, right = 0, len(heights) - 1\n",
    "\n",
    "    while left <= right:\n",
    "        \"\"\" speed varies by 500 ms??, leet code judge weirdness\n",
    "        width = right - left\n",
    "        height = min(heights[left], heights[right])\n",
    "        current = width*height\n",
    "        best = max(current, best)      \n",
    "        \"\"\"\n",
    "        min_height = min(heights[left], heights[right])\n",
    "        best = max((right - left)*min_height, best)\n",
    "        if heights[left] < heights[right]:\n",
    "            left += 1\n",
    "            \"\"\" should be faster but didnt make a difference\n",
    "            while heights[left] < min_height:\n",
    "                left += 1\n",
    "            \"\"\"\n",
    "        else:\n",
    "            right -= 1\n",
    "            \"\"\" should be faster but didnt make a difference\n",
    "            while heights[right] < min_height:\n",
    "                right -= 1\n",
    "            \"\"\"\n",
    "\n",
    "    return best\n",
    "\n",
    "maxArea([1,2,1])"
   ]
  },
  {
   "cell_type": "code",
   "execution_count": 27,
   "metadata": {},
   "outputs": [],
   "source": [
    "assert maxArea([1,2,1]) == 2\n",
    "assert maxArea([1,8,6,2,5,4,8,3,7]) == 49\n",
    "assert maxArea([1,2,4,3]) == 4"
   ]
  }
 ],
 "metadata": {
  "kernelspec": {
   "display_name": "Python 3.8.10 64-bit",
   "language": "python",
   "name": "python3"
  },
  "language_info": {
   "codemirror_mode": {
    "name": "ipython",
    "version": 3
   },
   "file_extension": ".py",
   "mimetype": "text/x-python",
   "name": "python",
   "nbconvert_exporter": "python",
   "pygments_lexer": "ipython3",
   "version": "3.8.10"
  },
  "orig_nbformat": 4,
  "vscode": {
   "interpreter": {
    "hash": "e7370f93d1d0cde622a1f8e1c04877d8463912d04d973331ad4851f04de6915a"
   }
  }
 },
 "nbformat": 4,
 "nbformat_minor": 2
}
