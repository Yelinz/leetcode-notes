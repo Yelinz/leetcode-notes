{
 "cells": [
  {
   "cell_type": "markdown",
   "metadata": {},
   "source": [
    "Frequency of the Most Frequent Element\n",
    "\n",
    "The frequency of an element is the number of times it occurs in an array.\n",
    "\n",
    "You are given an integer array nums and an integer k. In one operation, you can choose an index of nums and increment the element at that index by 1.\n",
    "\n",
    "Return the maximum possible frequency of an element after performing at most k operations."
   ]
  },
  {
   "cell_type": "markdown",
   "metadata": {},
   "source": [
    "count how many times each number appears in the list\n",
    "and work based on that?"
   ]
  },
  {
   "cell_type": "code",
   "execution_count": null,
   "metadata": {},
   "outputs": [],
   "source": [
    "def maxFrequency(nums: list[int], k: int) -> int:\n",
    "    for number in nums:\n",
    "        number\n",
    "    return\n",
    "\n",
    "maxFrequency([1,2,4], 5)"
   ]
  }
 ],
 "metadata": {
  "language_info": {
   "name": "python"
  }
 },
 "nbformat": 4,
 "nbformat_minor": 2
}
