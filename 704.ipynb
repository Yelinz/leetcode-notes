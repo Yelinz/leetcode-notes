{
 "cells": [
  {
   "cell_type": "markdown",
   "metadata": {},
   "source": [
    "basic Binary search\n",
    "O(log n)\n",
    "\n",
    "half the search space with every iteration\n",
    "\n",
    "sliding window between left and right always checking the center"
   ]
  },
  {
   "cell_type": "code",
   "execution_count": 31,
   "metadata": {},
   "outputs": [],
   "source": [
    "def search(nums: list[int], target: int) -> int:\n",
    "    left = 0\n",
    "    right = len(nums) - 1\n",
    "\n",
    "    while left <= right:\n",
    "        center = (left + right) // 2\n",
    "        if nums[center] < target:\n",
    "            left = center + 1\n",
    "        elif nums[center] > target:\n",
    "            right = center - 1\n",
    "        else:\n",
    "            return center\n",
    "\n",
    "    return -1\n",
    "\n",
    "# only test extremes, if this works, the rest works\n",
    "assert search([-1, 0, 3, 5, 9, 12], 12) == 5\n",
    "assert search([-1, 0, 3, 5, 9, 12], 18) == -1\n",
    "assert search([-1, 0, 3, 5, 9, 12], -1) == 0"
   ]
  },
  {
   "cell_type": "markdown",
   "metadata": {},
   "source": [
    "previous try with only storing the center index doesnt work, because we need to know the min and max of the window"
   ]
  },
  {
   "cell_type": "markdown",
   "metadata": {},
   "source": [
    "alternative version on wikipedia with one more iteration but less comparisions\n",
    "\n",
    "slides left and right to index which is probably the searched value and then checks"
   ]
  },
  {
   "cell_type": "code",
   "execution_count": 35,
   "metadata": {},
   "outputs": [],
   "source": [
    "def search(nums: list[int], target: int) -> int:\n",
    "    left = 0\n",
    "    right = len(nums) - 1\n",
    "\n",
    "    while left != right:\n",
    "        center = -((left + right) // -2) # ceiling division\n",
    "        if nums[center] > target:\n",
    "            right = center - 1\n",
    "        else:\n",
    "            left = center\n",
    "\n",
    "    if nums[left] == target:\n",
    "        return left \n",
    "    return -1\n",
    "\n",
    "# only test extremes, if this works, the rest works\n",
    "assert search([-1, 0, 3, 5, 9, 12], 12) == 5\n",
    "assert search([-1, 0, 3, 5, 9, 12], 18) == -1\n",
    "assert search([-1, 0, 3, 5, 9, 12], -1) == 0"
   ]
  }
 ],
 "metadata": {
  "kernelspec": {
   "display_name": "Python 3",
   "language": "python",
   "name": "python3"
  },
  "language_info": {
   "codemirror_mode": {
    "name": "ipython",
    "version": 3
   },
   "file_extension": ".py",
   "mimetype": "text/x-python",
   "name": "python",
   "nbconvert_exporter": "python",
   "pygments_lexer": "ipython3",
   "version": "3.10.12"
  }
 },
 "nbformat": 4,
 "nbformat_minor": 2
}
