{
 "cells": [
  {
   "cell_type": "markdown",
   "metadata": {},
   "source": [
    "Reverse Linked List\n",
    "Given the head of a singly linked list, reverse the list, and return the reversed list."
   ]
  },
  {
   "cell_type": "markdown",
   "metadata": {},
   "source": [
    "one way is to reverse them into a list and then reconstruct it\n",
    "O(n^2)"
   ]
  },
  {
   "cell_type": "markdown",
   "metadata": {},
   "source": [
    " recursive?\n",
    "O(n)"
   ]
  },
  {
   "cell_type": "code",
   "execution_count": 21,
   "metadata": {},
   "outputs": [],
   "source": [
    "class ListNode:\n",
    "    def __init__(self, val=0, next=None):\n",
    "        self.val = val\n",
    "        self.next = next\n",
    "\n",
    "\n",
    "class Solution:\n",
    "    def reverseList(self, head: ListNode) -> ListNode:\n",
    "        if not head.next:\n",
    "            return head\n",
    "        \n",
    "        prev = self.reverseList(head.next)\n",
    "        prev.next = head\n",
    "\n",
    "        return head\n",
    "\n",
    "        prev = head\n",
    "        while head:\n",
    "            if head.next is None:\n",
    "                break\n",
    "            current\n",
    "            next = current.next\n",
    "            current.next = prev\n",
    "            next.next = current\n",
    "\n",
    "        return head"
   ]
  },
  {
   "cell_type": "markdown",
   "metadata": {},
   "source": [
    "one iteration"
   ]
  },
  {
   "cell_type": "code",
   "execution_count": 34,
   "metadata": {},
   "outputs": [
    {
     "data": {
      "text/plain": [
       "<__main__.ListNode at 0x7f48d57f6500>"
      ]
     },
     "execution_count": 34,
     "metadata": {},
     "output_type": "execute_result"
    }
   ],
   "source": [
    "def reverseList(head: ListNode) -> ListNode:\n",
    "    if not head or not head.next:\n",
    "        return head\n",
    "\n",
    "    end = head\n",
    "    start = head.next\n",
    "    head.next = None\n",
    "\n",
    "    while start:\n",
    "        if not start.next:\n",
    "            start.next = end\n",
    "            break\n",
    "        tmp = start.next\n",
    "        start.next = end\n",
    "\n",
    "        end = start\n",
    "        start = tmp\n",
    "        \n",
    "    return start\n",
    "\n",
    "ll = ListNode(1)\n",
    "reverseList(ll)"
   ]
  },
  {
   "cell_type": "markdown",
   "metadata": {},
   "source": [
    "cleaned up iteration"
   ]
  },
  {
   "cell_type": "code",
   "execution_count": null,
   "metadata": {},
   "outputs": [],
   "source": [
    "class Solution:\n",
    "    def reverseList(self, head: Optional[ListNode]) -> Optional[ListNode]:\n",
    "        end = None\n",
    "        start = head\n",
    "\n",
    "        while start:\n",
    "            tmp = start.next\n",
    "            start.next = end\n",
    "\n",
    "            end = start\n",
    "            start = tmp\n",
    "            \n",
    "        return end"
   ]
  }
 ],
 "metadata": {
  "kernelspec": {
   "display_name": "Python 3",
   "language": "python",
   "name": "python3"
  },
  "language_info": {
   "codemirror_mode": {
    "name": "ipython",
    "version": 3
   },
   "file_extension": ".py",
   "mimetype": "text/x-python",
   "name": "python",
   "nbconvert_exporter": "python",
   "pygments_lexer": "ipython3",
   "version": "3.10.12"
  }
 },
 "nbformat": 4,
 "nbformat_minor": 2
}
