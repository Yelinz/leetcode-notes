{
 "cells": [
  {
   "cell_type": "markdown",
   "metadata": {},
   "source": [
    "First bad draft"
   ]
  },
  {
   "cell_type": "code",
   "execution_count": 27,
   "metadata": {},
   "outputs": [],
   "source": [
    "\n",
    "def containsNearbyDuplicate(nums, k):\n",
    "    if len(nums) == 1:\n",
    "      return False\n",
    "    match = 10**6\n",
    "    for i, num in enumerate(nums):\n",
    "        for j, comp in enumerate(nums):\n",
    "            if num == comp and i != j:\n",
    "                match = abs(i - j)\n",
    "                if match <= k:\n",
    "                  break\n",
    "        if match <= k:\n",
    "          return match <= k\n",
    "    return False\n",
    "\n",
    "assert containsNearbyDuplicate([1,2,3,1,2,3], 1) == False\n",
    "assert containsNearbyDuplicate([1], 1) == False"
   ]
  },
  {
   "cell_type": "markdown",
   "metadata": {},
   "source": [
    "After cheating"
   ]
  },
  {
   "cell_type": "code",
   "execution_count": null,
   "metadata": {},
   "outputs": [],
   "source": [
    "def containsNearbyDuplicate(nums, k):\n",
    "    seen = {}\n",
    "    for i, num in enumerate(nums):\n",
    "        if num in seen and abs(seen[num] - i) <= k:\n",
    "            return True\n",
    "        seen[num] = i\n",
    "    return False\n",
    "\n",
    "\n",
    "assert containsNearbyDuplicate([1,2,3,1,2,3], 1) == False\n",
    "assert containsNearbyDuplicate([1], 1) == False"
   ]
  }
 ],
 "metadata": {
  "kernelspec": {
   "display_name": "Python 3.8.10 64-bit",
   "language": "python",
   "name": "python3"
  },
  "language_info": {
   "codemirror_mode": {
    "name": "ipython",
    "version": 3
   },
   "file_extension": ".py",
   "mimetype": "text/x-python",
   "name": "python",
   "nbconvert_exporter": "python",
   "pygments_lexer": "ipython3",
   "version": "3.8.10"
  },
  "orig_nbformat": 4,
  "vscode": {
   "interpreter": {
    "hash": "e7370f93d1d0cde622a1f8e1c04877d8463912d04d973331ad4851f04de6915a"
   }
  }
 },
 "nbformat": 4,
 "nbformat_minor": 2
}
