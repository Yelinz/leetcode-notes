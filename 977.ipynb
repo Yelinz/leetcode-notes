{
 "cells": [
  {
   "cell_type": "markdown",
   "metadata": {},
   "source": [
    "sorted is O(n log n)\n",
    "plus O(n) for iterating once over nums\n",
    "Should be O(2n log n)"
   ]
  },
  {
   "cell_type": "code",
   "execution_count": null,
   "metadata": {},
   "outputs": [],
   "source": [
    "return sorted([n**2 for n in nums])"
   ]
  },
  {
   "cell_type": "markdown",
   "metadata": {},
   "source": [
    "O(n) solution\n",
    "use left and right pointers\n",
    "\n",
    "2n becasue one iteration and one reverse?"
   ]
  },
  {
   "cell_type": "code",
   "execution_count": 4,
   "metadata": {},
   "outputs": [
    {
     "data": {
      "text/plain": [
       "[0, 1, 9, 16, 100]"
      ]
     },
     "execution_count": 4,
     "metadata": {},
     "output_type": "execute_result"
    }
   ],
   "source": [
    "from collections import deque\n",
    "\n",
    "def sortedSquared(nums):\n",
    "    queue = deque(nums)\n",
    "    reversed_list = []\n",
    "\n",
    "    while queue:\n",
    "        left_squared = queue[0]**2\n",
    "        right_squared = queue[-1]**2\n",
    "\n",
    "        # swapping to > retains the order\n",
    "        # first putting in all the large numbers, as they are on the periphery\n",
    "        if left_squared < right_squared:\n",
    "            reversed_list.append(right_squared)\n",
    "            queue.pop()\n",
    "        else:\n",
    "            reversed_list.append(left_squared)\n",
    "            queue.popleft()\n",
    "\n",
    "    return reversed_list[::-1]\n",
    "\n",
    "\n",
    "sortedSquared([-4, -1, 0, 3, 10])\n"
   ]
  }
 ],
 "metadata": {
  "kernelspec": {
   "display_name": "Python 3.8.10 64-bit",
   "language": "python",
   "name": "python3"
  },
  "language_info": {
   "codemirror_mode": {
    "name": "ipython",
    "version": 3
   },
   "file_extension": ".py",
   "mimetype": "text/x-python",
   "name": "python",
   "nbconvert_exporter": "python",
   "pygments_lexer": "ipython3",
   "version": "3.8.10"
  },
  "orig_nbformat": 4,
  "vscode": {
   "interpreter": {
    "hash": "e7370f93d1d0cde622a1f8e1c04877d8463912d04d973331ad4851f04de6915a"
   }
  }
 },
 "nbformat": 4,
 "nbformat_minor": 2
}
