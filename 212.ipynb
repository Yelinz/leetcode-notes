{
 "cells": [
  {
   "cell_type": "markdown",
   "metadata": {},
   "source": [
    "Mentioned topics: backtracking, trie\n",
    "\n",
    "Trie: https://en.wikipedia.org/wiki/Trie\n",
    "A tree data structure to locate specific keys in a set"
   ]
  },
  {
   "cell_type": "code",
   "execution_count": null,
   "metadata": {},
   "outputs": [],
   "source": [
    "class Trie:\n",
    "    rootNode = None\n",
    "\n",
    "    def search(self, word):\n",
    "        if self.rootNode.value != word[0]:\n",
    "            return False\n",
    "        currentNode = self.rootNode\n",
    "        for letter in word:\n",
    "            if currentNode.childNodes:\n",
    "                pass\n",
    "        return True\n",
    "\n",
    "    def insert(self, letter, location):\n",
    "        pass\n",
    "\n",
    "class TrieNode:\n",
    "    value = None\n",
    "    location = None\n",
    "    childNodes = []"
   ]
  },
  {
   "cell_type": "code",
   "execution_count": 4,
   "metadata": {},
   "outputs": [
    {
     "name": "stdout",
     "output_type": "stream",
     "text": [
      "{'a', 'r', 'o', 'h', 'e', 'n', 'p', 't'}\n"
     ]
    }
   ],
   "source": [
    "def findWords(board, words):\n",
    "    # only search for first and last letters, as the rest cant form a valid trie\n",
    "    letters = set(\"\".join([word[0] + word[-1] for word in words]))\n",
    "    tries = []\n",
    "\n",
    "    # convert matrix into tries\n",
    "    for i, row in enumerate(board):\n",
    "        for j, letter in enumerate(row):\n",
    "            if letter not in letters:\n",
    "                continue\n",
    "            if not tries:\n",
    "                tries.append(Trie())\n",
    "            for trie in tries:\n",
    "                trie\n",
    "\n",
    "    result = []\n",
    "    # search tries for words\n",
    "    for trie in tries:\n",
    "        for word in words:\n",
    "            if trie.search(word):\n",
    "                result.append(word)\n",
    "\n",
    "    return result\n",
    "\n",
    "\n",
    "\n",
    "findWords([[\"o\",\"a\",\"a\",\"n\"],[\"e\",\"t\",\"a\",\"e\"],[\"i\",\"h\",\"k\",\"r\"],[\"i\",\"f\",\"l\",\"v\"]], [\"oath\",\"pea\",\"eat\",\"rain\"])"
   ]
  },
  {
   "cell_type": "code",
   "execution_count": null,
   "metadata": {},
   "outputs": [],
   "source": [
    "assert findWords([[\"o\",\"a\",\"a\",\"n\"],[\"e\",\"t\",\"a\",\"e\"],[\"i\",\"h\",\"k\",\"r\"],[\"i\",\"f\",\"l\",\"v\"]], [\"oath\",\"pea\",\"eat\",\"rain\"]) == [\"eat\",\"oath\"]\n",
    "assert findWords([[\"a\",\"b\"],[\"c\",\"d\"]], [\"abcb\"]) == []"
   ]
  }
 ],
 "metadata": {
  "kernelspec": {
   "display_name": "Python 3.8.10 64-bit",
   "language": "python",
   "name": "python3"
  },
  "language_info": {
   "codemirror_mode": {
    "name": "ipython",
    "version": 3
   },
   "file_extension": ".py",
   "mimetype": "text/x-python",
   "name": "python",
   "nbconvert_exporter": "python",
   "pygments_lexer": "ipython3",
   "version": "3.8.10"
  },
  "orig_nbformat": 4,
  "vscode": {
   "interpreter": {
    "hash": "e7370f93d1d0cde622a1f8e1c04877d8463912d04d973331ad4851f04de6915a"
   }
  }
 },
 "nbformat": 4,
 "nbformat_minor": 2
}
