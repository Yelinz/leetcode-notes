{
 "cells": [
  {
   "cell_type": "markdown",
   "metadata": {},
   "source": [
    "Just check if we have seen the node, because every edge shares one node"
   ]
  },
  {
   "cell_type": "code",
   "execution_count": null,
   "metadata": {},
   "outputs": [],
   "source": [
    "class Solution:\n",
    "    def findCenter(self, edges: List[List[int]]) -> int:\n",
    "        seen_nodes = set()\n",
    "        for edge in edges:\n",
    "            for node in edge:\n",
    "                if node in seen_nodes:\n",
    "                    return node\n",
    "                seen_nodes.add(node)\n"
   ]
  }
 ],
 "metadata": {
  "language_info": {
   "name": "python"
  }
 },
 "nbformat": 4,
 "nbformat_minor": 2
}
