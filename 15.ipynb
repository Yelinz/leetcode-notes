{
 "cells": [
  {
   "cell_type": "markdown",
   "metadata": {},
   "source": [
    "First thought:\n",
    "3 loops check indexes and values\n",
    "\n",
    "its too slow... obv..."
   ]
  },
  {
   "cell_type": "code",
   "execution_count": 10,
   "metadata": {},
   "outputs": [],
   "source": [
    "def threeSum(nums):\n",
    "    triplets = set()\n",
    "    for i, a in enumerate(nums):\n",
    "        for j, b in enumerate(nums):\n",
    "            if i == j:\n",
    "                break\n",
    "            for k, c in enumerate(nums):\n",
    "                if i != k and j != k and a+b+c==0:\n",
    "                    triplets.add(tuple(sorted([a,b,c])))\n",
    "    return [list(v) for v in triplets]"
   ]
  },
  {
   "cell_type": "markdown",
   "metadata": {},
   "source": [
    "sort the list to group the numbers and skip duplicates\n",
    "iterate over the whole list once, while using two pointers from the next number to the end\n",
    "which guarentees every possible combination to be tested"
   ]
  },
  {
   "cell_type": "code",
   "execution_count": 19,
   "metadata": {},
   "outputs": [
    {
     "data": {
      "text/plain": [
       "[[-1, -1, 2], [-1, 0, 1]]"
      ]
     },
     "execution_count": 19,
     "metadata": {},
     "output_type": "execute_result"
    }
   ],
   "source": [
    "def threeSum(nums):\n",
    "    nums.sort()\n",
    "    triplets = []\n",
    "\n",
    "    for i, base in enumerate(nums):\n",
    "        if base == nums[i-1] and i > 0:\n",
    "            continue\n",
    "\n",
    "        left, right = i + 1, len(nums) - 1\n",
    "        while left < right:\n",
    "            sum = base + nums[left] + nums[right]\n",
    "            if sum > 0:\n",
    "                right -= 1\n",
    "            elif sum < 0:\n",
    "                left += 1\n",
    "            else:\n",
    "                triplets.append([base, nums[left], nums[right]])\n",
    "                left += 1\n",
    "                while left < right and nums[left-1] == nums[left]:\n",
    "                    left += 1\n",
    "\n",
    "    return triplets\n",
    "\n",
    "threeSum([-1,0,1,2,-1,-4])"
   ]
  },
  {
   "cell_type": "markdown",
   "metadata": {},
   "source": [
    "referenced solution\n",
    "https://leetcode.com/problems/3sum/solutions/2602454/python-solution-100-explained/"
   ]
  },
  {
   "cell_type": "code",
   "execution_count": 16,
   "metadata": {},
   "outputs": [
    {
     "data": {
      "text/plain": [
       "[[-1, -1, 2], [-1, 0, 1]]"
      ]
     },
     "execution_count": 16,
     "metadata": {},
     "output_type": "execute_result"
    }
   ],
   "source": [
    "def threeSum(nums):\n",
    "    nums.sort()  # sorting cause we need to avoid duplicates, with this duplicates will be near to each other\n",
    "    l = []\n",
    "    for i in range(len(nums)):  # this loop will help to fix the one number i.e, i\n",
    "        if i > 0 and nums[i - 1] == nums[i]:  # skipping if we found the duplicate of i\n",
    "            continue\n",
    "\n",
    "        # NOW FOLLOWING THE RULE OF TWO POINTERS AFTER FIXING THE ONE VALUE (i)\n",
    "        j = i + 1  # taking j pointer larger than i (as said in ques)\n",
    "        k = len(nums) - 1  # taking k pointer from last\n",
    "        while j < k:\n",
    "            s = nums[i] + nums[j] + nums[k]\n",
    "            if (\n",
    "                s > 0\n",
    "            ):  # if sum s is greater than 0(target) means the larger value(from right as nums is sorted i.e, k at right)\n",
    "                # is taken and it is not able to sum up to the target\n",
    "                k -= 1  # so take value less than previous\n",
    "            elif (\n",
    "                s < 0\n",
    "            ):  # if sum s is less than 0(target) means the shorter value(from left as nums is sorted i.e, j at left)\n",
    "                # is taken and it is not able to sum up to the target\n",
    "                j += 1  # so take value greater than previous\n",
    "            else:\n",
    "                l.append(\n",
    "                    [nums[i], nums[j], nums[k]]\n",
    "                )  # if sum s found equal to the target (0)\n",
    "                j += 1\n",
    "                while (\n",
    "                    nums[j - 1] == nums[j] and j < k\n",
    "                ):  # skipping if we found the duplicate of j and we dont need to check\n",
    "                    # the duplicate of k cause it will automatically skip the duplicate by the adjustment of i and j\n",
    "                    j += 1\n",
    "    return l\n",
    "\n",
    "threeSum([-1,0,1,2,-1,-4])"
   ]
  },
  {
   "cell_type": "code",
   "execution_count": 11,
   "metadata": {},
   "outputs": [
    {
     "data": {
      "text/plain": [
       "[[-9, 1, 8],\n",
       " [-15, 1, 14],\n",
       " [-9, 2, 7],\n",
       " [-15, 2, 13],\n",
       " [-12, -1, 13],\n",
       " [-5, 2, 3],\n",
       " [-8, -1, 9],\n",
       " [-4, 1, 3],\n",
       " [-12, 2, 10],\n",
       " [-14, 6, 8],\n",
       " [-8, -6, 14],\n",
       " [-14, 7, 7],\n",
       " [-8, -5, 13],\n",
       " [-12, 0, 12],\n",
       " [-11, -1, 12],\n",
       " [-14, 5, 9],\n",
       " [-11, 4, 7],\n",
       " [-7, -1, 8],\n",
       " [-10, 5, 5],\n",
       " [-11, 2, 9],\n",
       " [-14, 4, 10],\n",
       " [-3, -1, 4],\n",
       " [-7, -6, 13],\n",
       " [-7, -5, 12],\n",
       " [-7, 2, 5],\n",
       " [-10, 4, 6],\n",
       " [-4, -3, 7],\n",
       " [-5, -1, 6],\n",
       " [-6, 1, 5],\n",
       " [-7, -7, 14],\n",
       " [-7, 0, 7],\n",
       " [-2, 1, 1],\n",
       " [-6, 0, 6],\n",
       " [-12, 3, 9],\n",
       " [-5, 1, 4],\n",
       " [-2, 0, 2],\n",
       " [-13, 0, 13],\n",
       " [-6, -2, 8],\n",
       " [-8, 3, 5],\n",
       " [-15, 7, 8],\n",
       " [-12, 1, 11],\n",
       " [-9, 0, 9],\n",
       " [-2, -2, 4],\n",
       " [-8, 1, 7],\n",
       " [-5, 0, 5],\n",
       " [-8, 2, 6],\n",
       " [-9, -2, 11],\n",
       " [-6, -3, 9],\n",
       " [-11, 3, 8],\n",
       " [-8, 0, 8],\n",
       " [-5, -2, 7],\n",
       " [-9, -3, 12],\n",
       " [-6, -5, 11],\n",
       " [-7, 3, 4],\n",
       " [-11, 1, 10],\n",
       " [-5, -3, 8],\n",
       " [-14, 3, 11],\n",
       " [-7, 1, 6],\n",
       " [-4, -4, 8],\n",
       " [-4, -1, 5],\n",
       " [-10, -1, 11],\n",
       " [-10, 3, 7],\n",
       " [-3, 1, 2],\n",
       " [-14, 1, 13],\n",
       " [-14, 2, 12],\n",
       " [-11, 0, 11],\n",
       " [-10, 1, 9],\n",
       " [-4, 2, 2],\n",
       " [-10, 2, 8],\n",
       " [-3, 0, 3],\n",
       " [-14, 0, 14],\n",
       " [-11, -2, 13],\n",
       " [-10, 0, 10],\n",
       " [-13, 6, 7],\n",
       " [-11, -3, 14],\n",
       " [-15, 6, 9],\n",
       " [-7, -3, 10],\n",
       " [-1, 0, 1],\n",
       " [-6, -4, 10],\n",
       " [-6, -1, 7],\n",
       " [-15, 5, 10],\n",
       " [-2, -1, 3],\n",
       " [-13, -1, 14],\n",
       " [-6, -6, 12],\n",
       " [-15, 3, 12],\n",
       " [-6, 2, 4],\n",
       " [-15, 4, 11],\n",
       " [-9, -4, 13],\n",
       " [-12, -2, 14],\n",
       " [-8, -3, 11],\n",
       " [-8, -2, 10],\n",
       " [-9, -5, 14],\n",
       " [-8, -4, 12],\n",
       " [-5, -5, 10],\n",
       " [-11, 5, 6],\n",
       " [-7, -2, 9],\n",
       " [-4, 0, 4],\n",
       " [-3, -2, 5],\n",
       " [-7, -4, 11],\n",
       " [-4, -2, 6],\n",
       " [-10, -2, 12],\n",
       " [-13, 5, 8],\n",
       " [-3, -3, 6],\n",
       " [-6, 3, 3],\n",
       " [-12, 6, 6],\n",
       " [-10, -4, 14],\n",
       " [-10, -3, 13],\n",
       " [-13, 3, 10],\n",
       " [-13, 4, 9],\n",
       " [-9, -1, 10],\n",
       " [-12, 4, 8],\n",
       " [-12, 5, 7],\n",
       " [-9, 3, 6],\n",
       " [-9, 4, 5],\n",
       " [-13, 1, 12],\n",
       " [-13, 2, 11],\n",
       " [-5, -4, 9],\n",
       " [-8, 4, 4]]"
      ]
     },
     "execution_count": 11,
     "metadata": {},
     "output_type": "execute_result"
    }
   ],
   "source": []
  }
 ],
 "metadata": {
  "kernelspec": {
   "display_name": "Python 3.8.10 64-bit",
   "language": "python",
   "name": "python3"
  },
  "language_info": {
   "codemirror_mode": {
    "name": "ipython",
    "version": 3
   },
   "file_extension": ".py",
   "mimetype": "text/x-python",
   "name": "python",
   "nbconvert_exporter": "python",
   "pygments_lexer": "ipython3",
   "version": "3.8.10"
  },
  "orig_nbformat": 4,
  "vscode": {
   "interpreter": {
    "hash": "e7370f93d1d0cde622a1f8e1c04877d8463912d04d973331ad4851f04de6915a"
   }
  }
 },
 "nbformat": 4,
 "nbformat_minor": 2
}
