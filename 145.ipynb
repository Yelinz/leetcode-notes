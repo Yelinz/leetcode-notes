{
 "cells": [
  {
   "cell_type": "markdown",
   "metadata": {},
   "source": [
    "Binary Tree Postorder Traversal\n",
    "\n",
    "root, left child, right child"
   ]
  },
  {
   "cell_type": "markdown",
   "metadata": {},
   "source": [
    "similar to preorder, we just insert at the front of the values"
   ]
  },
  {
   "cell_type": "markdown",
   "metadata": {},
   "source": [
    "difference to inorder for post and pre is that results are inserted first"
   ]
  },
  {
   "cell_type": "code",
   "execution_count": null,
   "metadata": {},
   "outputs": [],
   "source": [
    "class Solution:\n",
    "    def postorderTraversal(self, root: Optional[TreeNode]) -> List[int]:\n",
    "        stack, values = [], []\n",
    "\n",
    "        while stack or root:\n",
    "            if root:\n",
    "                stack.append(root)\n",
    "                values.insert(0, root.val)\n",
    "                root = root.right\n",
    "            else:\n",
    "                current = stack.pop()\n",
    "                root = current.left\n",
    "\n",
    "        return values"
   ]
  }
 ],
 "metadata": {
  "language_info": {
   "name": "python"
  }
 },
 "nbformat": 4,
 "nbformat_minor": 2
}
