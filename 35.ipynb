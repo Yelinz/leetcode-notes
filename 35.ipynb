{
 "cells": [
  {
   "cell_type": "markdown",
   "metadata": {},
   "source": [
    "out of brain\n",
    "\n",
    "bugs"
   ]
  },
  {
   "cell_type": "code",
   "execution_count": null,
   "metadata": {},
   "outputs": [],
   "source": [
    "    def searchInsert(self, nums: List[int], target: int) -> int:\n",
    "        top = len(nums)\n",
    "        bottom = 0\n",
    "        while bottom < top:\n",
    "            middle = bottom + (top + bottom) // 2\n",
    "            if nums[middle] < target:\n",
    "                top = middle\n",
    "            else:\n",
    "                bottom = middle + 1\n",
    "                \n",
    "        return bottom"
   ]
  },
  {
   "cell_type": "markdown",
   "metadata": {},
   "source": [
    "after consultation"
   ]
  },
  {
   "cell_type": "code",
   "execution_count": null,
   "metadata": {},
   "outputs": [],
   "source": [
    "class Solution:\n",
    "    def searchInsert(self, nums: List[int], target: int) -> int:\n",
    "        top = len(nums) - 1\n",
    "        bottom = 0\n",
    "        while bottom < top:\n",
    "            middle = bottom + (top - bottom) // 2\n",
    "            if nums[middle] < target:\n",
    "                bottom = middle + 1\n",
    "            else:\n",
    "                top = middle\n",
    "\n",
    "        return bottom + 1 if nums[bottom] < target else bottom"
   ]
  }
 ],
 "metadata": {
  "kernelspec": {
   "display_name": "Python 3.8.10 64-bit",
   "language": "python",
   "name": "python3"
  },
  "language_info": {
   "name": "python",
   "version": "3.8.10"
  },
  "orig_nbformat": 4,
  "vscode": {
   "interpreter": {
    "hash": "e7370f93d1d0cde622a1f8e1c04877d8463912d04d973331ad4851f04de6915a"
   }
  }
 },
 "nbformat": 4,
 "nbformat_minor": 2
}
