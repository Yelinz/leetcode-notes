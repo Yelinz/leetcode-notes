{
 "cells": [
  {
   "cell_type": "code",
   "execution_count": null,
   "metadata": {},
   "outputs": [],
   "source": [
    "        total = sum(nums)\n",
    "        for n in nums:\n",
    "            if total % k == 0:\n",
    "                return True\n",
    "            total -= n\n",
    "        return False"
   ]
  },
  {
   "cell_type": "code",
   "execution_count": 16,
   "metadata": {},
   "outputs": [
    {
     "data": {
      "text/plain": [
       "True"
      ]
     },
     "execution_count": 16,
     "metadata": {},
     "output_type": "execute_result"
    }
   ],
   "source": [
    "def checkSubarraySum(nums, k):\n",
    "    vals = {0:0}\n",
    "    total = 0\n",
    "    for i, n in enumerate(nums):\n",
    "        total += n\n",
    "        val = total % k\n",
    "        if val not in vals:\n",
    "            vals[val] = i + 1\n",
    "        elif vals[val] < i:\n",
    "            return True\n",
    "\n",
    "    return False\n",
    "\n",
    "checkSubarraySum([23,2,4,6,6], 7)"
   ]
  },
  {
   "cell_type": "code",
   "execution_count": 17,
   "metadata": {},
   "outputs": [],
   "source": [
    "assert checkSubarraySum([23,2,4,6,7], 6)\n",
    "assert not checkSubarraySum([23,2,6,4,7], 13)\n",
    "assert checkSubarraySum([23,2,4,6,6], 7)"
   ]
  },
  {
   "cell_type": "code",
   "execution_count": 12,
   "metadata": {},
   "outputs": [
    {
     "data": {
      "text/plain": [
       "42"
      ]
     },
     "execution_count": 12,
     "metadata": {},
     "output_type": "execute_result"
    }
   ],
   "source": []
  }
 ],
 "metadata": {
  "kernelspec": {
   "display_name": "Python 3.8.10 64-bit",
   "language": "python",
   "name": "python3"
  },
  "language_info": {
   "codemirror_mode": {
    "name": "ipython",
    "version": 3
   },
   "file_extension": ".py",
   "mimetype": "text/x-python",
   "name": "python",
   "nbconvert_exporter": "python",
   "pygments_lexer": "ipython3",
   "version": "3.8.10"
  },
  "orig_nbformat": 4,
  "vscode": {
   "interpreter": {
    "hash": "e7370f93d1d0cde622a1f8e1c04877d8463912d04d973331ad4851f04de6915a"
   }
  }
 },
 "nbformat": 4,
 "nbformat_minor": 2
}
