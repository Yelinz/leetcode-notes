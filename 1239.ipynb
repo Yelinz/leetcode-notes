{
 "cells": [
  {
   "cell_type": "code",
   "execution_count": null,
   "metadata": {},
   "outputs": [],
   "source": [
    "# 1239, not working\n",
    "    def maxLength(self, arr: List[str]) -> int:\n",
    "        max_l = 0\n",
    "        for piece in arr:\n",
    "            for compare in arr:\n",
    "                if all(letter in compare for letter in piece):\n",
    "                    break\n",
    "\n",
    "                l = len(piece+compare)\n",
    "                \n",
    "                if l > max_l:\n",
    "                    max_l = l\n",
    "            if len(piece) > max_l:\n",
    "                max_l = len(piece)\n",
    "                \n",
    "        return max_l"
   ]
  },
  {
   "cell_type": "code",
   "execution_count": null,
   "metadata": {},
   "outputs": [],
   "source": [
    "    def maxLength(self, arr: List[str]) -> int:\n",
    "        # filter out any subsequences with duplicate letters inside\n",
    "        uniques = []\n",
    "        for seq in arr:\n",
    "            unique = set(seq)\n",
    "            if len(seq) == len(unique):\n",
    "                uniques.append(unique)\n",
    "        \n",
    "        sequences = [set()]\n",
    "        for unique in uniques:\n",
    "            for sequence in sequences:\n",
    "                if unique.isdisjoint(sequence):\n",
    "                # if not unique & sequence: # check if set intersection is empty\n",
    "                    sequences.append(unique | sequence) # add union of both sets\n",
    "        \n",
    "        return max(map(len, sequences))"
   ]
  }
 ],
 "metadata": {
  "kernelspec": {
   "display_name": "Python 3.8.10 64-bit",
   "language": "python",
   "name": "python3"
  },
  "language_info": {
   "name": "python",
   "version": "3.8.10"
  },
  "orig_nbformat": 4,
  "vscode": {
   "interpreter": {
    "hash": "e7370f93d1d0cde622a1f8e1c04877d8463912d04d973331ad4851f04de6915a"
   }
  }
 },
 "nbformat": 4,
 "nbformat_minor": 2
}
