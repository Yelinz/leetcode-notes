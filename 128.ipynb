{
 "cells": [
  {
   "cell_type": "markdown",
   "metadata": {},
   "source": [
    "Limitation time O(n)\n",
    "sorting is banned as its O(n log n)\n",
    "\n",
    "creating a set is O(n) subsequent accesses (check with in) are O(1)"
   ]
  },
  {
   "cell_type": "code",
   "execution_count": 22,
   "metadata": {},
   "outputs": [
    {
     "data": {
      "text/plain": [
       "7"
      ]
     },
     "execution_count": 22,
     "metadata": {},
     "output_type": "execute_result"
    }
   ],
   "source": [
    "def longestConsecutive(nums):\n",
    "    nums = set(nums)\n",
    "    best = 0\n",
    "    for num in nums:\n",
    "        if num - 1 in nums: # only start checking the consecutives if its the smallest number\n",
    "            continue\n",
    "\n",
    "        current = 1\n",
    "        while num + current in nums:\n",
    "            current += 1\n",
    "        best = max(current, best)\n",
    "\n",
    "    return best\n",
    "\n",
    "\n",
    "longestConsecutive([9,1,4,7,3,-1,0,5,8,-1,6])"
   ]
  },
  {
   "cell_type": "code",
   "execution_count": 23,
   "metadata": {},
   "outputs": [],
   "source": [
    "assert longestConsecutive([0,3,7,2,5,8,4,6,0,1]) == 9\n",
    "assert longestConsecutive([100,4,200,1,3,2]) == 4\n",
    "assert longestConsecutive([0,0]) == 1\n",
    "assert longestConsecutive([]) == 0\n",
    "assert longestConsecutive([9,1,4,7,3,-1,0,5,8,-1,6]) == 7"
   ]
  },
  {
   "cell_type": "code",
   "execution_count": 16,
   "metadata": {},
   "outputs": [
    {
     "data": {
      "text/plain": [
       "[-1, -1, 0, 1, 3, 4, 5, 6, 7, 8, 9]"
      ]
     },
     "execution_count": 16,
     "metadata": {},
     "output_type": "execute_result"
    }
   ],
   "source": []
  }
 ],
 "metadata": {
  "kernelspec": {
   "display_name": "Python 3.8.10 64-bit",
   "language": "python",
   "name": "python3"
  },
  "language_info": {
   "codemirror_mode": {
    "name": "ipython",
    "version": 3
   },
   "file_extension": ".py",
   "mimetype": "text/x-python",
   "name": "python",
   "nbconvert_exporter": "python",
   "pygments_lexer": "ipython3",
   "version": "3.8.10"
  },
  "orig_nbformat": 4,
  "vscode": {
   "interpreter": {
    "hash": "e7370f93d1d0cde622a1f8e1c04877d8463912d04d973331ad4851f04de6915a"
   }
  }
 },
 "nbformat": 4,
 "nbformat_minor": 2
}
